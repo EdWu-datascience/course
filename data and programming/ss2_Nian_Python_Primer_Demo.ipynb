{
 "cells": [
  {
   "cell_type": "markdown",
   "metadata": {
    "slideshow": {
     "slide_type": "slide"
    }
   },
   "source": [
    "## Python Tutorials\n",
    "\n",
    "If you have no knowledge of programming, then the [official Python tutorial](https://docs.python.org/2/tutorial/index.html) is a good place to start.\n",
    "\n"
   ]
  },
  {
   "cell_type": "markdown",
   "metadata": {},
   "source": [
    "Here is the complete set of keyboard shortcuts available:\n",
    "\n",
    "https://ipython.org/ipython-doc/1/interactive/notebook.html\n",
    "\n",
    "Note: For the Delete Cell and Kernel Interrupt shortcuts, you have to hit the key twice. i.e. Ctrl-m ii\n"
   ]
  },
  {
   "cell_type": "markdown",
   "metadata": {},
   "source": [
    "### Boolean Operations:\n",
    "\n",
    "Frequently, one wants to combine or modify boolean values. Python has several operations for just this purpose:\n",
    "\n",
    "+ `not a`: returns the opposite value of `a`.\n",
    "+ `a and b`: returns true if and only if both `a` and `b` are true.\n",
    "+ `a or b`: returns true either `a` or `b` are true, or both.\n",
    "\n",
    "Like mathematical expressions, boolean expressions can be nested using parentheses. "
   ]
  },
  {
   "cell_type": "code",
   "execution_count": null,
   "metadata": {},
   "outputs": [],
   "source": [
    "var1 = 5\n",
    "var2 = 6\n",
    "var3 = 7 \n",
    "\n",
    "print(var1 + var2 == 11 and var2 + var3 == 13)\n",
    "print(var1 + var2 == 12 and var2 + var3 == 13)\n",
    "print(var1 + var2 == 12 or var2 + var3 == 13)\n"
   ]
  },
  {
   "cell_type": "code",
   "execution_count": null,
   "metadata": {},
   "outputs": [],
   "source": [
    "# None, \"\", False, 0 are \"falsy\" which means they are considered false in a Boolean context.  \n",
    "\n",
    "string = \"\"\n",
    "if not string:\n",
    "    print(\"Empty String!\")\n",
    "    \n",
    "print(bool(string))"
   ]
  },
  {
   "cell_type": "markdown",
   "metadata": {},
   "source": [
    "The None keyword is used to define a null value, or no value at all.\n",
    "\n",
    "None is not the same as 0, False, or an empty string. None is a datatype of its own (NoneType) and only None can be None."
   ]
  },
  {
   "cell_type": "markdown",
   "metadata": {},
   "source": [
    "### String Formatting:\n",
    "Often one wants to embed other information into strings, sometimes with special formatting constraints. In python, one may insert special formatting characters into strings that convey what type of data should be inserted and where, and how the \"stringified\" form should be formatted. For instance, one may wish to insert an integer into a string:"
   ]
  },
  {
   "cell_type": "code",
   "execution_count": null,
   "metadata": {},
   "outputs": [],
   "source": [
    "message = 2\n",
    "print(\"To be or not %.2f be\" % message)"
   ]
  },
  {
   "cell_type": "markdown",
   "metadata": {},
   "source": [
    "Note the `%d` formatting (or conversion) specifier in the string. This is stating that you wish to insert an integer value (more on these conversion specifiers below). Then the value you wish to insert into the string is separated by a `%` character placed after the string. If you wish to insert more than one value into the string being formatted, they can be placed in a comma separated list, surrounded by parentheses after the `%`:"
   ]
  },
  {
   "cell_type": "code",
   "execution_count": null,
   "metadata": {},
   "outputs": [],
   "source": [
    "print(\"%d be or not %d be\" % (2, 2))"
   ]
  },
  {
   "cell_type": "markdown",
   "metadata": {},
   "source": [
    "In detail, a conversion specifier contains two or more characters which must occur in order with the following components:\n",
    "\n",
    "+ The `%` character which marks the start of the specifier\n",
    "+ An optional minimum field width. The value being read is padded to be at least this width\n",
    "+ An optional precision value, given as a \"`.`\" followed by the number of digits precision. \n",
    "+ Conversion specifier flag specified below. \n",
    "\n",
    "For a more detailed treatment on string formatting options, [see here](http://docs.python.org/release/2.5.2/lib/typesseq-strings.html).\n",
    "\n",
    "Some common conversion flag characters are:\n",
    "\n",
    "+ `d`: Signed integer decimal.\t\n",
    "+ `i`: Signed integer decimal.\t\n",
    "+ `e`: Floating point exponential format (lowercase).\n",
    "+ `E`: Floating point exponential format (uppercase).\n",
    "+ `f`: Floating point decimal format.\n",
    "+ `c`: Single character (accepts integer or single character string).\t\n",
    "+ `r`: String (converts any python object using repr()).\n",
    "+ `s`: String (converts any python object using str()).\n"
   ]
  },
  {
   "cell_type": "code",
   "execution_count": null,
   "metadata": {},
   "outputs": [],
   "source": [
    "print(\"%d %s or not %02.3f %c\" % (2, \"be\", 10.0/3, 'b'))"
   ]
  },
  {
   "cell_type": "markdown",
   "metadata": {},
   "source": [
    "#### Exercise\n",
    "\n",
    "* Divide 10 by 3 and print the percentage with two decimal points"
   ]
  },
  {
   "cell_type": "code",
   "execution_count": null,
   "metadata": {},
   "outputs": [],
   "source": [
    "print(\"%d divided by %d is %.3f%c\" % (8, 10, 8.0*100/10, '%'))"
   ]
  },
  {
   "cell_type": "markdown",
   "metadata": {},
   "source": [
    "Data Structures\n",
    "---------------\n",
    "\n",
    "We have covered in detail much of the basics of python's primitive data types. Its now useful to consider how these basic types can be collected in ways that are meaningful and useful for a variety of tasks. Data structures are a fundamental component of programming, a collection of elements of data that adhere to certain properties, depending on the type. In these notes, we'll present three basic data structures, the list, the set, and the dictionary. Python data structures are very rich, and beyond the scope of this simple primer. Please see [the documentation](http://docs.python.org/2/tutorial/datastructures.html) for a more complete view.\n",
    "\n",
    "### List:\n",
    "A list, sometimes called an array or a vector is an ordered collection of values. The value of a particular element in a list is retrieved by querying for a specific index into an array. Lists allow duplicate values, but indicies are unique. In python, like most programming languages, list indices start at 0, that is, to get the first element in a list, request the element at index 0. Lists provide very fast access to elements at specific positions, but are inefficient at \"membership queries,\" determining if an element is in the array. \n",
    "\n",
    "In python, lists are specified by square brackets, `[ ]`, containing zero or more values, separated by commas. Lists are the most common data structure, and are often generated as a result of other functions, for instance, `a_string.split(\" \")`.\n",
    "\n",
    "To query a specific value from a list, pass in the requested index into square brackets following the name of the list. Negative indices can be used to traverse the list from the right."
   ]
  },
  {
   "cell_type": "code",
   "execution_count": null,
   "metadata": {},
   "outputs": [],
   "source": [
    "a_list = [1, 2, 3, 0, 5, 10, 11, \"python is cool\", \"c\"]\n",
    "a_list[0:2] #values at index 0, 1, excluding 2\n",
    "len(a_list)\n",
    "type(a_list)"
   ]
  },
  {
   "cell_type": "code",
   "execution_count": null,
   "metadata": {},
   "outputs": [],
   "source": [
    "print(a_list[-1]) # indexing from the right\n",
    "print(a_list[2:])\n",
    "print(a_list[-3:-1])"
   ]
  },
  {
   "cell_type": "code",
   "execution_count": null,
   "metadata": {},
   "outputs": [],
   "source": [
    "another_list = [\"a\", \"b\", \"c\"]\n",
    "empty_list = []\n",
    "mixed_list = [1, \"a\"]\n",
    "\n",
    "print(another_list[1])\n",
    "\n",
    "print(empty_list)"
   ]
  },
  {
   "cell_type": "markdown",
   "metadata": {},
   "source": [
    "Some common functionality of lists:\n",
    "\n",
    "+ `list.append(x)`: add an element ot the end of a list\n",
    "+ `list_1.extend(list_2)`: add all elements in the second list to the end of the first list\n",
    "+ `list.insert(index, x)`: insert element x into the list at the specified index. Elements to the right of this index are shifted over\n",
    "+ `list.pop(index)`: remove the element at the specified position\n",
    "+ `list.index(x)`: looks through the list to find the specified element, returning it's position if it's found, else throws an error\n",
    "+ `list.count(x)`: counts the number of occurrences of the input element\n",
    "+ `list.sort()`: sorts the list of items, list.sort(key = , reverse = True/False) default is False.\n",
    "+ `list.reverse()`: reverses the order of the list"
   ]
  },
  {
   "cell_type": "code",
   "execution_count": null,
   "metadata": {},
   "outputs": [],
   "source": [
    "a = [\"Python\", \"is\", \"one\"]\n",
    "a.sort(key=len, reverse = True)\n",
    "a.sort()\n",
    "a"
   ]
  },
  {
   "cell_type": "markdown",
   "metadata": {},
   "source": [
    "#### Exercise\n",
    "\n",
    "* Add the letter \"d\" in `another_list` and print the result\n",
    "* Add the letter \"c\" in `another_list` and print the result\n",
    "* If you search for \"c\" in `another_list` using the list.index(x) command, what is the result?\n",
    "* Sort `another_list` and print the result"
   ]
  },
  {
   "cell_type": "code",
   "execution_count": null,
   "metadata": {},
   "outputs": [],
   "source": [
    "another_list = [\"a\", \"b\", \"c\"]\n"
   ]
  },
  {
   "cell_type": "code",
   "execution_count": null,
   "metadata": {},
   "outputs": [],
   "source": []
  },
  {
   "cell_type": "code",
   "execution_count": null,
   "metadata": {},
   "outputs": [],
   "source": []
  },
  {
   "cell_type": "code",
   "execution_count": null,
   "metadata": {},
   "outputs": [],
   "source": []
  },
  {
   "cell_type": "code",
   "execution_count": null,
   "metadata": {},
   "outputs": [],
   "source": [
    "import re\n",
    "[index for index, x in enumerate(another_list) if x==\"c\"]\n",
    "#[index for index, x in enumerate(another_list) if re.search(x,\"c\")]"
   ]
  },
  {
   "cell_type": "markdown",
   "metadata": {},
   "source": [
    "### Set:\n",
    "\n",
    "A set is a data structure where all elements are unique. Sets are unordered. In fact, the order of the elements observed when printing a set might change at different points during a programs execution, depending on the state of python's internal representation of the set. Sets are ideal for membership queries, for instance, is a user amongst those users who have received a promotion? \n",
    "\n",
    "Sets are specified by curly braces, `{ }`, containing one or more comma separated values. To specify an empty set, you can use the alternative construct, `set()`."
   ]
  },
  {
   "cell_type": "code",
   "execution_count": null,
   "metadata": {},
   "outputs": [],
   "source": [
    "some_set = {1, 2, 3, 4}\n",
    "another_set = {4, 5, 6}\n",
    "empty_set = set()\n",
    "\n",
    "print(some_set)\n",
    "print(another_set)\n",
    "print(empty_set)\n",
    "\n",
    "len(some_set)\n"
   ]
  },
  {
   "cell_type": "code",
   "execution_count": null,
   "metadata": {},
   "outputs": [],
   "source": [
    "another_set = set(another_list)\n",
    "another_set\n",
    "len(another_set)\n",
    "one_more_list = list(another_set)\n",
    "one_more_list"
   ]
  },
  {
   "cell_type": "markdown",
   "metadata": {},
   "source": [
    "We can also create a set from a list:"
   ]
  },
  {
   "cell_type": "code",
   "execution_count": null,
   "metadata": {},
   "outputs": [],
   "source": [
    "my_list = [1, 2, 3, 0, 5, 10, 11, 1, 5]\n",
    "your_list = [1, 2, 3, 0, 11, 10]\n",
    "my_set = set(my_list)\n",
    "your_set = set(your_list)\n",
    "print(my_set)\n",
    "print(your_set)\n",
    "\n",
    "\n"
   ]
  },
  {
   "cell_type": "code",
   "execution_count": null,
   "metadata": {},
   "outputs": [],
   "source": [
    "my_set"
   ]
  },
  {
   "cell_type": "code",
   "execution_count": null,
   "metadata": {},
   "outputs": [],
   "source": [
    "#print(my_set.issubset(your_set))\n",
    "#print(type(my_set))\n",
    "print(len(my_set))"
   ]
  },
  {
   "cell_type": "markdown",
   "metadata": {},
   "source": [
    "The easiest way to check for membership in a set is to use the `in` keyword, checking if a needle is \"`in`\" the haystack set."
   ]
  },
  {
   "cell_type": "code",
   "execution_count": null,
   "metadata": {},
   "outputs": [],
   "source": [
    "my_set = {1, 2, 3}\n",
    "print(\"The value 1 appears in the variable some_set:\", 1 in my_set)\n",
    "print(\"The value 0 appears in the variable some_set:\", 0 in my_set)\n",
    "print(1 in my_set)\n",
    "print(4 not in my_set)"
   ]
  },
  {
   "cell_type": "markdown",
   "metadata": {},
   "source": [
    "We also have the \"`not in`\" operator"
   ]
  },
  {
   "cell_type": "code",
   "execution_count": null,
   "metadata": {},
   "outputs": [],
   "source": [
    "some_set = {1, 2, 3, 4}\n",
    "val = 5\n",
    "print(\"Check that the value %d does not appear in the variable some_set:\" % val, (val not in some_set))\n",
    "val = 1\n",
    "print(\"Check that the value %d does not appear in the variable some_set:\" % val, (val not in some_set))\n"
   ]
  },
  {
   "cell_type": "code",
   "execution_count": null,
   "metadata": {},
   "outputs": [],
   "source": []
  },
  {
   "cell_type": "markdown",
   "metadata": {},
   "source": [
    "Some other common set functionality:\n",
    "\n",
    "+ `set_a.add(x)`: add an element to a set\n",
    "+ `set_a.remove(x)`: remove an element from a set\n",
    "+ `set_a - set_b`: elements in a but not in b. Equivalent to `set_a.difference(set_b)`\n",
    "+ `set_a | set_b`: elements in a or b. Equivalent to `set_a.union(set_b)`\n",
    "+ `set_a & set_b`: elements in both a and b. Equivalent to `set_a.intersection(set_b)`\n",
    "+ `set_a ^ set_b`: elements in a or b but not both. Equivalent to `set_a.symmetric_difference(set_b)` \n",
    "+ `set_a <= set_b`:\ttests whether every element in set_a is in set_b. Equivalent to `set_a.issubset(set_b)`\n"
   ]
  },
  {
   "cell_type": "code",
   "execution_count": null,
   "metadata": {},
   "outputs": [],
   "source": [
    "some_set = {1, 2, 3, 4}\n",
    "another_set = {4, 5, 6}\n"
   ]
  },
  {
   "cell_type": "markdown",
   "metadata": {},
   "source": [
    "#### Exercise\n",
    "\n",
    "Try the above yourself using the `some_set` and `another_set` variables from above\n",
    "+ find the set of elements in `some_set` but not in `another_set` \n",
    "+ find the set of elements in either `some_set` or in `another_set` \n",
    "+ find the set of elements in both `some_set` and `another_set` \n",
    "+ remove the element 4 from `some_set`\n",
    "+ add an element 7 to \"`another_set`"
   ]
  },
  {
   "cell_type": "code",
   "execution_count": null,
   "metadata": {},
   "outputs": [],
   "source": []
  },
  {
   "cell_type": "code",
   "execution_count": null,
   "metadata": {},
   "outputs": [],
   "source": []
  },
  {
   "cell_type": "code",
   "execution_count": null,
   "metadata": {},
   "outputs": [],
   "source": []
  },
  {
   "cell_type": "code",
   "execution_count": null,
   "metadata": {},
   "outputs": [],
   "source": []
  },
  {
   "cell_type": "code",
   "execution_count": null,
   "metadata": {},
   "outputs": [],
   "source": []
  },
  {
   "cell_type": "code",
   "execution_count": null,
   "metadata": {},
   "outputs": [],
   "source": []
  },
  {
   "cell_type": "code",
   "execution_count": null,
   "metadata": {},
   "outputs": [],
   "source": []
  },
  {
   "cell_type": "markdown",
   "metadata": {},
   "source": [
    "### Tuples:\n",
    "\n",
    "A tuple is a sequence of immutable Python objects. Tuples are sequences, just like lists. The differences between tuples and lists are, the tuples cannot be changed unlike lists and tuples use parentheses, whereas lists use square brackets."
   ]
  },
  {
   "cell_type": "code",
   "execution_count": null,
   "metadata": {},
   "outputs": [],
   "source": [
    "t = (12345, 54321, 'hello!')\n",
    "print(t)\n",
    "len(t)"
   ]
  },
  {
   "cell_type": "code",
   "execution_count": null,
   "metadata": {},
   "outputs": [],
   "source": [
    "print(t[2])"
   ]
  },
  {
   "cell_type": "code",
   "execution_count": null,
   "metadata": {},
   "outputs": [],
   "source": [
    "len(t)"
   ]
  },
  {
   "cell_type": "code",
   "execution_count": null,
   "metadata": {},
   "outputs": [],
   "source": [
    "# Empty tuple\n",
    "t_2=()\n",
    "print(t_2)\n",
    "type(t_2)"
   ]
  },
  {
   "cell_type": "code",
   "execution_count": null,
   "metadata": {},
   "outputs": [],
   "source": [
    "list_1 = []\n",
    "list_1"
   ]
  },
  {
   "cell_type": "code",
   "execution_count": null,
   "metadata": {},
   "outputs": [],
   "source": [
    "t_3 = (1,)\n",
    "type(t_3)\n",
    "len(t_3)"
   ]
  },
  {
   "cell_type": "code",
   "execution_count": null,
   "metadata": {},
   "outputs": [],
   "source": [
    "#Concatenation\n",
    "print((1, 2, 3) + (4, 5, 6))"
   ]
  },
  {
   "cell_type": "code",
   "execution_count": null,
   "metadata": {},
   "outputs": [],
   "source": [
    "#Repetition\n",
    "print(('Hi!') * 4)"
   ]
  },
  {
   "cell_type": "code",
   "execution_count": null,
   "metadata": {},
   "outputs": [],
   "source": [
    "#Membership\n",
    "print(3 in (1, 2, 3))"
   ]
  },
  {
   "cell_type": "code",
   "execution_count": null,
   "metadata": {},
   "outputs": [],
   "source": [
    "#Iteration\n",
    "for x in (1, 2, 3): \n",
    "    print(x)"
   ]
  },
  {
   "cell_type": "code",
   "execution_count": null,
   "metadata": {},
   "outputs": [],
   "source": [
    "print(\"Two elements. The first one: %s and the second one %s:\" % (\"UCI\", \"merage\"))"
   ]
  },
  {
   "cell_type": "markdown",
   "metadata": {},
   "source": [
    "#### No Enclosing Delimiters\n",
    "Any set of multiple objects, comma-separated, written without identifying symbols, i.e., brackets for lists, parentheses for tuples, etc., default to tuples, as indicated below:"
   ]
  },
  {
   "cell_type": "code",
   "execution_count": null,
   "metadata": {},
   "outputs": [],
   "source": [
    "print('abc', -4.24e93, 18+6.6j, 'xyz')\n",
    "print(('abc', -4.24e93, 18+6.6j, 'xyz'))"
   ]
  },
  {
   "cell_type": "code",
   "execution_count": null,
   "metadata": {},
   "outputs": [],
   "source": [
    "x, y = 1, 2 #parallel assignment, equivalent to\n",
    "#x=1\n",
    "#y=2\n",
    "print(\"Value of x , y : \", x,y)\n",
    "print(x)\n",
    "print(y)\n",
    "#type(('abc', -4.24e93, 18+6.6j, 'xyz'))"
   ]
  },
  {
   "cell_type": "markdown",
   "metadata": {},
   "source": [
    "Let's rewrite the Fibonacci script from above using tuples, to avoid the temporary variable t:"
   ]
  },
  {
   "cell_type": "code",
   "execution_count": null,
   "metadata": {},
   "outputs": [],
   "source": [
    "0 1 1 2 3 5 8 13 21"
   ]
  },
  {
   "cell_type": "code",
   "execution_count": null,
   "metadata": {},
   "outputs": [],
   "source": [
    "# Fibonacci series:\n",
    "# the sum of two elements defines the next\n",
    "a = 0\n",
    "b = 1\n",
    "while b < 20: \n",
    "    print(b)\n",
    "    t = a # temporary variable\n",
    "    a = b\n",
    "    b = t+b"
   ]
  },
  {
   "cell_type": "code",
   "execution_count": null,
   "metadata": {},
   "outputs": [],
   "source": [
    "# Fibonacci series:\n",
    "# the sum of two elements defines the next\n",
    "a = 0\n",
    "b = 1\n",
    "#a, b = 0, 1\n",
    "while b < 20:\n",
    "    #print(a, b)\n",
    "    (a, b) = (b, a+b)\n",
    "    print(a, b)"
   ]
  },
  {
   "cell_type": "code",
   "execution_count": null,
   "metadata": {},
   "outputs": [],
   "source": [
    "t = (\"a\", \"hello\", 2, \"%\")\n",
    "#check whether 1 is in the tuple\n",
    "print(2 in t)\n",
    "print(t.count(\"a\"))\n",
    "t_list = list(t)\n",
    "t_list"
   ]
  },
  {
   "cell_type": "code",
   "execution_count": null,
   "metadata": {},
   "outputs": [],
   "source": [
    "t_list.remove(\"%\")\n",
    "t_list"
   ]
  },
  {
   "cell_type": "code",
   "execution_count": null,
   "metadata": {},
   "outputs": [],
   "source": [
    "type(t_list)"
   ]
  },
  {
   "cell_type": "code",
   "execution_count": null,
   "metadata": {},
   "outputs": [],
   "source": [
    "t_new = tuple(t_list)\n",
    "t_new"
   ]
  },
  {
   "cell_type": "code",
   "execution_count": null,
   "metadata": {},
   "outputs": [],
   "source": [
    "t_new.index(\"hello\")"
   ]
  },
  {
   "cell_type": "code",
   "execution_count": null,
   "metadata": {},
   "outputs": [],
   "source": []
  },
  {
   "cell_type": "markdown",
   "metadata": {},
   "source": [
    "### Dictionaries:\n",
    "\n",
    "Dictionaries, sometimes called dicts, maps, or, rarely, hashes are data structures containing key-value pairs. Dictionaries have a set of unique keys and are used to retrieve the value information associated with these keys. For instance, a dictionary might be used to store for each user, that user's location, or for a product id, the description associated with that product. Lookup into a dictionary is very efficient, and because these data structures are very common, they are frequently used and encountered in practice. \n",
    "\n",
    "Dictionaries are specified by curly braces, `{ }`, containing zero or more comma separated key-value pairs, where the keys and values are separated by a colon, `:`. Like a list, values for a particular key are retrieved by passing the query key into square brackets.\n",
    "\n",
    "Keys are unique and only immutable datatypes can be keys: strings, numbers, tuples. "
   ]
  },
  {
   "cell_type": "code",
   "execution_count": null,
   "metadata": {},
   "outputs": [],
   "source": [
    "a_dict = {1:[\"python\", \"is\", 2], \"b\":2, \"c\":3, \"d\": 4}\n",
    "another_dict = {\"c\":5, \"d\":6}\n",
    "a_dict[\"d\"]"
   ]
  },
  {
   "cell_type": "code",
   "execution_count": null,
   "metadata": {},
   "outputs": [],
   "source": [
    "empty_dict = {}\n",
    "print(a_dict[\"c\"])\n",
    "len(a_dict)\n",
    "type(a_dict)"
   ]
  },
  {
   "cell_type": "code",
   "execution_count": null,
   "metadata": {},
   "outputs": [],
   "source": [
    "a_dict.keys()"
   ]
  },
  {
   "cell_type": "code",
   "execution_count": null,
   "metadata": {},
   "outputs": [],
   "source": [
    "a_dict.values()"
   ]
  },
  {
   "cell_type": "markdown",
   "metadata": {},
   "source": [
    "Like the set, the easiest way to check if a particular key is in a map is through the `in` keyword:"
   ]
  },
  {
   "cell_type": "code",
   "execution_count": null,
   "metadata": {},
   "outputs": [],
   "source": [
    "print(2 in a_dict.values())\n",
    "print(1 in a_dict.keys())\n",
    "a_dict.pop(\"d\")\n",
    "a_dict"
   ]
  },
  {
   "cell_type": "markdown",
   "metadata": {},
   "source": [
    "Some common operations on dictionaries:\n",
    "\n",
    "+ `dict.keys()`: returns a list containing the keys of a dictionary\n",
    "+ `dict.values()`: returns a list containing the values in a dictionary\n",
    "+ `dict.pop(x)`: removes the key and its associated value from the dictionary"
   ]
  },
  {
   "cell_type": "code",
   "execution_count": null,
   "metadata": {},
   "outputs": [],
   "source": [
    "data = {\n",
    "        \"Ben\": {\n",
    "                  \"Job\": \"Professor\",\n",
    "                  \"YOB\": \"1976\",\n",
    "                  \"Children\":[\"Gregory\",\"Anna\"]\n",
    "                  },\n",
    "        \"Joe\": {\n",
    "                \"Job\": \"Data Scientist\",\n",
    "                  \"YOB\": \"1981\"}\n",
    "}"
   ]
  },
  {
   "cell_type": "code",
   "execution_count": null,
   "metadata": {},
   "outputs": [],
   "source": [
    "print(\"Job\" in data[\"Ben\"])"
   ]
  },
  {
   "cell_type": "code",
   "execution_count": null,
   "metadata": {},
   "outputs": [],
   "source": [
    "print(\"1981\"==data[\"Joe\"][\"YOB\"])"
   ]
  },
  {
   "cell_type": "code",
   "execution_count": null,
   "metadata": {},
   "outputs": [],
   "source": [
    "print(\"1981\" == data[\"Joe\"][\"YOB\"])"
   ]
  },
  {
   "cell_type": "code",
   "execution_count": null,
   "metadata": {},
   "outputs": [],
   "source": [
    "print(\"1981\" in data[\"Joe\"].values())\n",
    "#data[\"Joe\"].keys()"
   ]
  },
  {
   "cell_type": "code",
   "execution_count": null,
   "metadata": {},
   "outputs": [],
   "source": [
    "a_dict = {\"a\":1, \"b\":2, \"c\":3}\n",
    "another_dict = {\"c\":5, \"d\":6}\n",
    "empty_dict = {}\n",
    "\n"
   ]
  },
  {
   "cell_type": "markdown",
   "metadata": {},
   "source": [
    "#### Exercise\n",
    "\n",
    "* Find the length of `a_dict`\n",
    "* Find the common keys in `a_dict` and `another_dict`\n",
    "* Find the common values in `a_dict` and `another_dict` \n",
    "* Check whether \"1981\" is in `data`\n"
   ]
  },
  {
   "cell_type": "code",
   "execution_count": null,
   "metadata": {},
   "outputs": [],
   "source": []
  },
  {
   "cell_type": "code",
   "execution_count": null,
   "metadata": {},
   "outputs": [],
   "source": []
  },
  {
   "cell_type": "code",
   "execution_count": null,
   "metadata": {},
   "outputs": [],
   "source": []
  },
  {
   "cell_type": "code",
   "execution_count": null,
   "metadata": {},
   "outputs": [],
   "source": []
  },
  {
   "cell_type": "code",
   "execution_count": null,
   "metadata": {},
   "outputs": [],
   "source": [
    "a_dict.items() "
   ]
  },
  {
   "cell_type": "markdown",
   "metadata": {},
   "source": [
    "### Combining (Nesting) Data Structures:\n",
    "\n",
    "There are many opportunities to combine data types in python. Lists can be populated by arbitrary data structures. Similarly, you can use any type as the value in a dictionary. However, the elements of sets, and the keys of dictionaries need to have some special properties that allow the mechanics of the data structure to determine how to store the element.\n",
    "\n"
   ]
  },
  {
   "cell_type": "code",
   "execution_count": null,
   "metadata": {},
   "outputs": [],
   "source": [
    "print(\"lists of lists\")\n",
    "lol = [[1, 2, 3], [4, 5, 6, 7]]\n",
    "lol_2 = [[4, 5, 6], [7, 8, 9]]\n",
    "print(lol)\n",
    "print(lol[1][2])\n",
    "#print(len(lol[0]))"
   ]
  },
  {
   "cell_type": "code",
   "execution_count": null,
   "metadata": {},
   "outputs": [],
   "source": [
    "print(\"lists of lists of lists\")\n",
    "lolol = [lol, lol_2]\n",
    "print(lolol)\n",
    "lolol[0][0][0]"
   ]
  },
  {
   "cell_type": "code",
   "execution_count": null,
   "metadata": {},
   "outputs": [],
   "source": [
    "print(\"retrieving data from this data structure\")\n",
    "print(lolol[0])\n",
    "print(lolol[0][0])\n",
    "print(lolol[0][0][0])"
   ]
  },
  {
   "cell_type": "code",
   "execution_count": null,
   "metadata": {},
   "outputs": [],
   "source": [
    "print(\"data structures as values in a dictionary\")\n",
    "dlol = {\"lol\":lol, \"lol_2\":lol_2}\n",
    "print(dlol)\n",
    "#print(dlol[\"lol\"][0][0])"
   ]
  },
  {
   "cell_type": "code",
   "execution_count": null,
   "metadata": {},
   "outputs": [],
   "source": [
    "print(\"retrieving data from this dictionary\")\n",
    "print(dlol[\"lol\"])\n",
    "print(dlol[\"lol\"][0])\n",
    "print(dlol[\"lol\"][0][0])"
   ]
  },
  {
   "cell_type": "markdown",
   "metadata": {},
   "source": [
    "Control Structures\n",
    "------------------\n",
    "\n",
    "We've spent some time going into detail about some of the data types and structures available in python. It's now time to talk about how to navigate through some of this data, and use data to make decisions. Traversing over data and making decisions based upon data are a common aspect of every programming language, known as control flow. Python provides a rich control flow, with a lot of conveniences for the power users. Here, we're just going to talk about the basics, and to learn more, please [consult the documentation](http://docs.python.org/2/tutorial/controlflow.html). \n",
    "\n",
    "A common theme throughout this discussion of control structures is the notion of a \"block of code.\" Blocks of code are demarcated by a specific level of indentation, typically separated from the surrounding code by some control structure elements, immediately preceeded by a colon, `:`. We'll see examples below. \n",
    "\n",
    "Finally, note that control structures can be nested arbitrarily, depending on the tasks you're trying to accomplish. \n",
    "\n",
    "### if Statements:\n",
    "\n",
    "If statements are perhaps the most widely used of all control structures. An if statement consists of a code block and an argument. The if statement evaluates the boolean value of it's argument, executing the code block if that argument is true. "
   ]
  },
  {
   "cell_type": "code",
   "execution_count": null,
   "metadata": {},
   "outputs": [],
   "source": [
    "if True:\n",
    "    print(\"duh\")\n",
    "    print(\"bye\")\n",
    "    \n",
    "    "
   ]
  },
  {
   "cell_type": "code",
   "execution_count": null,
   "metadata": {},
   "outputs": [],
   "source": [
    "if 1+1 == 2:\n",
    "    print(\"easy\")"
   ]
  },
  {
   "cell_type": "code",
   "execution_count": null,
   "metadata": {},
   "outputs": [],
   "source": [
    "if (2+2 == 5):\n",
    "    print(\"really?\")\n",
    "    "
   ]
  },
  {
   "cell_type": "code",
   "execution_count": null,
   "metadata": {},
   "outputs": [],
   "source": [
    "items = {1, 2, 3}\n",
    "if 5 in items:\n",
    "    print(\"found it! I found the element 2\")"
   ]
  },
  {
   "cell_type": "markdown",
   "metadata": {},
   "source": [
    "Each argument in the above if statements is a boolean expression. Often you want to have alternatives, blocks of code that get evaluated in the event that the argument to an if statement is false. This is where elif (else if) and else come in. \n",
    "\n",
    "An elif is evaluated if all preceeding if or elif arguments have evaluted to false. The else statement is the last resort, assigning the code that gets exectued if no if or elif above it is true. These statements are optional, and can be added to an if statement in any order, with at most one code block being evaluated. An else will always have it's code be exectued, if nothing above it is true."
   ]
  },
  {
   "cell_type": "code",
   "execution_count": null,
   "metadata": {},
   "outputs": [],
   "source": [
    "if 1+2 == 2:\n",
    "    print(\"whoa\")\n",
    "    x = 5+1\n",
    "    print(\"done\")\n",
    "elif 1+1 == 3:\n",
    "    print(\"that explains it\")\n",
    "elif 5+5 == 10:\n",
    "    print(\"something\")\n",
    "    if \"something\": #values that evaluates to False are empty values, such as (), {}, [], \"\", and 0, and None\n",
    "        print(\"hi\")\n",
    "    else:\n",
    "        print(\"what I expected\")\n",
    "else:\n",
    "    print(\"omg\")"
   ]
  },
  {
   "cell_type": "code",
   "execution_count": null,
   "metadata": {},
   "outputs": [],
   "source": [
    "x = {1,2,3}\n",
    "if 2 in x:\n",
    "    print(\"found it\")\n",
    "else:\n",
    "    print(\"didn't find it\")\n",
    "    x.add(5)\n",
    "\n",
    "#print(x)"
   ]
  },
  {
   "cell_type": "code",
   "execution_count": null,
   "metadata": {},
   "outputs": [],
   "source": [
    "print(x)"
   ]
  },
  {
   "cell_type": "code",
   "execution_count": null,
   "metadata": {},
   "outputs": [],
   "source": [
    "if False:\n",
    "    print(\"shouldn't happen\")\n",
    "elif False:\n",
    "    print(\"should happen\")"
   ]
  },
  {
   "cell_type": "markdown",
   "metadata": {},
   "source": [
    "### for Statements:\n",
    "\n",
    "for statements are a convenient way to iterate through the values contained in a data structure. Going through the elements in a data structure one at a time, this element is assigned to variable. The code block associated with the for statement (or for loop) is then evaluated with this value."
   ]
  },
  {
   "cell_type": "code",
   "execution_count": null,
   "metadata": {},
   "outputs": [],
   "source": [
    "my_set = {1, 2, 3, 4}\n",
    "for foobar in my_set:\n",
    "    print(foobar, \" squared is:\", foobar*foobar)\n"
   ]
  },
  {
   "cell_type": "code",
   "execution_count": null,
   "metadata": {},
   "outputs": [],
   "source": [
    "print(\"a more complex block\")\n",
    "for x in my_set:\n",
    "    if x >= 3:\n",
    "        print(x+5)"
   ]
  },
  {
   "cell_type": "code",
   "execution_count": null,
   "metadata": {},
   "outputs": [],
   "source": [
    "print(\"this also works for lists\")\n",
    "my_list = [1,2,3]\n",
    "for num in my_list:\n",
    "    if num >= 2:\n",
    "        print(num+5)"
   ]
  },
  {
   "cell_type": "code",
   "execution_count": null,
   "metadata": {},
   "outputs": [],
   "source": [
    "print(\"dictionaries let you iterate through keys, values, or both\")\n",
    "my_dict = {\"a\":1, \"b\":2}\n",
    "\n",
    "for k in my_dict.keys():\n",
    "    value = my_dict[k]\n",
    "    print(k)\n",
    "    print(value)\n",
    "    \n",
    "#my_dict.keys()\n",
    "#my_dict['a']"
   ]
  },
  {
   "cell_type": "code",
   "execution_count": null,
   "metadata": {},
   "outputs": [],
   "source": [
    "for v in my_dict.values():\n",
    "    print(v)"
   ]
  },
  {
   "cell_type": "code",
   "execution_count": null,
   "metadata": {},
   "outputs": [],
   "source": [
    "#dict.items(): Return a copy of the dictionary’s list of (key, value) pairs.\n",
    "\n",
    "#dict.iteritems(): Return an iterator over the dictionary’s (key, value) pairs.\n",
    "for k,v in my_dict.items(): \n",
    "    print(k, v)\n",
    "    if v == 1:\n",
    "        print(k)\n",
    "\n",
    "[(\"a\", 1), (\"b\", 2)]       "
   ]
  },
  {
   "cell_type": "code",
   "execution_count": null,
   "metadata": {},
   "outputs": [],
   "source": [
    "print(\"dictionaries let you iterate through keys, values, or both\")\n",
    "my_dict = {\"a\":1, \"b\":2}\n",
    "\n",
    "for k,v in my_dict.items(): #Returns an iterator over the dictionary’s (key, value) pairs\n",
    "    if v == my_dict[k]:\n",
    "        print(\"whew! the value %05.1f\" % v, \" is in the dictionary, with a key %s\" % k)\n"
   ]
  },
  {
   "cell_type": "code",
   "execution_count": null,
   "metadata": {},
   "outputs": [],
   "source": [
    "print(\"dictionaries let you iterate through keys, values, or both\")\n",
    "my_dict = {\"a\":1, \"b\":2, \"c\": 3, \"d\":4, \"e\": 4, \"f\": 4}\n",
    "\n",
    "for k,v in my_dict.items(): #Returns an iterator over the dictionary’s (key, value) pairs\n",
    "    if v == 4:\n",
    "        print(\"The key %s has the value 4\" % k)"
   ]
  },
  {
   "cell_type": "markdown",
   "metadata": {},
   "source": [
    "### Break and Continue:\n",
    "\n",
    "These two statements are used to modify iteration of loops. Break is used to exit the most inner loop in which it appears. Continue the current pass through the loop, going on to the next iteration."
   ]
  },
  {
   "cell_type": "code",
   "execution_count": null,
   "metadata": {},
   "outputs": [],
   "source": [
    "x = [1,3,4,5]\n",
    "\n",
    "\n",
    "for y in x:\n",
    "    print(y)\n",
    "    for num in x:\n",
    "        if num > 2:\n",
    "            continue #pass will simply do nothing, but if you add another line after it, it still run that. for continue, it willstart the next iteration of the loop without doing the next statement\n",
    "        print(num)\n",
    "        \n",
    "    \n",
    "        \n",
    "         "
   ]
  },
  {
   "cell_type": "code",
   "execution_count": null,
   "metadata": {},
   "outputs": [],
   "source": [
    "y = [\"a\", \"b\", \"c\", \"d\"]\n",
    "for letter in y:\n",
    "    if letter == \"b\":\n",
    "        continue\n",
    "    print(letter)"
   ]
  },
  {
   "cell_type": "code",
   "execution_count": null,
   "metadata": {},
   "outputs": [],
   "source": [
    "y = [\"a\", \"b\", \"c\", \"d\"]\n",
    "for letter in y:\n",
    "    if letter == \"b\":\n",
    "        break\n",
    "    print(letter)"
   ]
  },
  {
   "cell_type": "markdown",
   "metadata": {},
   "source": [
    "### Ranges of Integers:\n",
    "\n",
    "Often it is convenient to define (and iterate through) ranges of integers. Python has a convenient range function that allows you to do just this."
   ]
  },
  {
   "cell_type": "code",
   "execution_count": null,
   "metadata": {},
   "outputs": [],
   "source": [
    "for x in range(5):\n",
    "    print(x)\n"
   ]
  },
  {
   "cell_type": "code",
   "execution_count": null,
   "metadata": {},
   "outputs": [],
   "source": [
    "print(range(3)) # start at zero, < the specified ceiling value\n",
    "print(range(-5, 5)) #from the left value, < right value\n",
    "print(range(-5, 5, 2)) #from the left value, to the middle value, incrementing by the right value\n",
    "\n",
    "for x in range(-5, 5):\n",
    "    if x > 0:\n",
    "        print(\"%d is positive\" % x)"
   ]
  },
  {
   "cell_type": "markdown",
   "metadata": {},
   "source": [
    "User Defined Functions\n",
    "----------------------\n",
    "\n",
    "Functions assign a name to a block of code the way variables assign names to bits of data. This seeminly benign naming of things is incredibly powerful; allowing one to reuse common functionality over and over. Well-tested functions form building blocks for large, complex systems. As you progress through python, you'll find yourself using powerful functions defined in some of python's vast libraries of code. \n",
    "\n",
    "Function definitions begin with the `def` keyword, followed by the name you wish to assign to a function. Following this name are parentheses, `( )`, containing zero or more variable names, those values that are passed into the function. There is then a colon, followed by a code block defining the actions of the function:"
   ]
  },
  {
   "cell_type": "code",
   "execution_count": null,
   "metadata": {},
   "outputs": [],
   "source": [
    "def print_hi():\n",
    "    print(\"hi!\")\n",
    "    print(\"hihihi\")\n",
    "    \n",
    "print_hi()\n"
   ]
  },
  {
   "cell_type": "code",
   "execution_count": null,
   "metadata": {},
   "outputs": [],
   "source": [
    "def hi_you(name):\n",
    "    print(\"hi %s!\" % name.upper())\n",
    "\n",
    "hi_you(\"Ben\")\n",
    "hi_you(\"Dan\")\n",
    "hi_you(\"Adam\")"
   ]
  },
  {
   "cell_type": "code",
   "execution_count": null,
   "metadata": {},
   "outputs": [],
   "source": [
    "def square(num):\n",
    "    squared = num*num\n",
    "    return squared\n",
    "\n",
    "\n",
    "print(square(5))\n",
    "\n"
   ]
  },
  {
   "cell_type": "code",
   "execution_count": null,
   "metadata": {},
   "outputs": [],
   "source": [
    "           \n",
    "for i in range(15):\n",
    "    print(\"The square of %2d\" %i, \"is %3d\" % square(i)) #Remember that 3d means the integer is of a minimum width of 3"
   ]
  },
  {
   "cell_type": "code",
   "execution_count": null,
   "metadata": {},
   "outputs": [],
   "source": [
    "for i in range(15):\n",
    "    print(\"The square of %d\" %i, \"is %d\" % square(i))"
   ]
  },
  {
   "cell_type": "markdown",
   "metadata": {},
   "source": [
    "Note that the function `square` has a special keyword return. The argument to return is passed to whatever piece of code is calling the function. In this case, the square of the number that was input. \n",
    "\n",
    "Variables set inside of functions are said to be scoped to those functions: changes, including any new variables created, are only accessible while in the function code block (with some exceptions). If \"outside\" variables are modified inside a function's context, the contents of that variable are first copied.\n",
    "\n",
    "Similarly, changes or modifications to a function's arguments aren't reflected once the scope is returned; The variable will continue to point to the original thing. However, it is possible to modify the thing that is passed, assuming that it is mutable."
   ]
  },
  {
   "cell_type": "code",
   "execution_count": null,
   "metadata": {},
   "outputs": [],
   "source": [
    "# inside a function's context, changes to a variable defined outside that\n",
    "# context aren't reflected once the context is returned\n",
    "\n",
    "# name = \"Ben\"\n",
    "# def do_something():\n",
    "#     print(\"We are now in the function!\")\n",
    "#     name = \"not Ben\"\n",
    "#     print(name)\n",
    "#     print(\"something! ... and we are out\")\n",
    "    \n",
    "# do_something()\n",
    "\n",
    "name = []\n",
    "def do_something():\n",
    "    name.append(5)\n",
    "    \n",
    "do_something()\n",
    "print(name)\n",
    "\n"
   ]
  },
  {
   "cell_type": "code",
   "execution_count": null,
   "metadata": {},
   "outputs": [],
   "source": [
    "print(x)"
   ]
  },
  {
   "cell_type": "code",
   "execution_count": null,
   "metadata": {},
   "outputs": [],
   "source": [
    "# but outside variables can be read!\n",
    "def do_something_else():\n",
    "     print(name)\n",
    "do_something_else()"
   ]
  },
  {
   "cell_type": "code",
   "execution_count": null,
   "metadata": {},
   "outputs": [],
   "source": [
    "def do_something_new(some_name):\n",
    "    some_name = \"nothing\"\n",
    "    print(some_name)\n",
    "\n",
    "do_something_new(name)"
   ]
  },
  {
   "cell_type": "code",
   "execution_count": null,
   "metadata": {},
   "outputs": [],
   "source": [
    "print(name)\n",
    " "
   ]
  },
  {
   "cell_type": "code",
   "execution_count": null,
   "metadata": {},
   "outputs": [],
   "source": [
    "# mutable objects can be modified\n",
    "a_list = [1,2,3]\n",
    "def add_sum(some_list):\n",
    "    s = sum(some_list)\n",
    "    some_list.append(s) # numbers, strings and tuples are immutable, while dictionaries, sets and lists are mutable.\n",
    "    return s\n",
    "\n",
    "tot = add_sum(a_list)\n",
    "print(tot)\n",
    "print(a_list)\n"
   ]
  },
  {
   "cell_type": "code",
   "execution_count": null,
   "metadata": {},
   "outputs": [],
   "source": [
    "# try again!\n",
    "tot_2 = add_sum(a_list)\n",
    "print(tot_2)\n",
    "print(a_list)"
   ]
  },
  {
   "cell_type": "code",
   "execution_count": null,
   "metadata": {},
   "outputs": [],
   "source": [
    "# variables created in a function aren't accessible \n",
    "# outside that function's context\n",
    "def do_something_new():\n",
    "    thing = \"123\"\n",
    "    print(\"Hi!\")\n",
    "do_something_new()\n",
    "print(thing)"
   ]
  },
  {
   "cell_type": "code",
   "execution_count": null,
   "metadata": {},
   "outputs": [],
   "source": [
    "def times_two(x):\n",
    "    x = 2*x\n",
    "    print(x)\n",
    "    #return x\n",
    "\n",
    "a = 4\n",
    "#print(times_two(a))\n",
    "#print(a)\n",
    "result = times_two(a)\n",
    "print(result)\n",
    "    "
   ]
  },
  {
   "cell_type": "markdown",
   "metadata": {},
   "source": [
    "Files and Printing\n",
    "------------------\n",
    "\n",
    "You'll often be reading data from a file, or writing the output of your python scripts back into a file. Python makes this very easy. You need to open a file in the appropriate mode, using the `open` function, then you can read or write to accomplish your task. The `open` function takes two arguments, the name of the file, and the mode. The mode is a single letter string that specifies if you're going to be reading from a file, writing to a file, or appending to the end of an existing file. The function returns a file object that performs the various tasks you'll be performing: `a_file = open(filename, mode)`. The modes are:\n",
    "\n",
    "+ `'r'`: open a file for reading\n",
    "+ `'w'`: open a file for writing. Caution: this will overwrite any previously existing file\n",
    "+ `'a'`: append. Write to the end of a file. \n",
    "\n",
    "When reading, you typically want to iterate through the lines in a file using a for loop, as above. Some other common methods for dealing with files are: \n",
    "\n",
    "+ `file.read()`: read the entire contents of a file into a string\n",
    "+ `file.readline()`: read one line of a file\n",
    "+ `file.write(some_string)`: writes to the file, note this doesn't automatically include any new lines. Also note that sometimes writes are buffered- python will wait until you have several writes pending, and perform them all at once\n",
    "+ `file.flush()`: write out any buffered writes\n",
    "+ `file.close()`: close the open file. This will free up some computer resources occupied by keeping a file open.\n",
    "+ `file.seek(position)`: moves to a specific position within a file. Note that position is specified in bytes. \n",
    "\n",
    "Here is an example using files:"
   ]
  },
  {
   "cell_type": "code",
   "execution_count": null,
   "metadata": {},
   "outputs": [],
   "source": [
    "my_file = open(\"temp.txt\", \"w\")\n",
    "my_list = [\"a\", \"b\", \"c\", \"d\"]\n",
    "my_set = {1, 2, 3, 4}\n",
    "\n",
    "for x in my_list:\n",
    "    my_file.write(\"letter: %s\\n\" % x)\n",
    "    print(\"letter: %s\\n\" % x)\n",
    "for n in my_set:\n",
    "    my_file.write(\"number: %d\\n\" % n)\n",
    "    print(\"number: %d\\n\" % n)\n",
    "my_file.flush()\n",
    "my_file.close()"
   ]
  },
  {
   "cell_type": "code",
   "execution_count": null,
   "metadata": {},
   "outputs": [],
   "source": [
    "#cat stands for \"catenate.\" It reads data from files, and outputs their contents. \n",
    "#It is the simplest way to display the contents of a file at the command line in Unix.\n",
    "!cat temp.txt"
   ]
  },
  {
   "cell_type": "code",
   "execution_count": null,
   "metadata": {},
   "outputs": [],
   "source": [
    "file_2 = open(\"temp.txt\", \"r\")\n",
    "for line in file_2:\n",
    "    print(line) # note that this doesn't strip off the newlines\n",
    "file_2.close()\n"
   ]
  },
  {
   "cell_type": "code",
   "execution_count": null,
   "metadata": {},
   "outputs": [],
   "source": [
    "file_3 = open(\"temp.txt\", \"r\")\n",
    "content = file_3.read()\n",
    "print(content)\n",
    "file_3.close()"
   ]
  },
  {
   "cell_type": "code",
   "execution_count": null,
   "metadata": {},
   "outputs": [],
   "source": [
    "# filter rows\n",
    "file_4 = open(\"temp.txt\", \"r\")\n",
    "for line in file_4:\n",
    "    if line.count(\"m\") > 0:\n",
    "        break\n",
    "    print(line.strip()) # remove the extra newline.\n",
    "file_4.close()"
   ]
  },
  {
   "cell_type": "code",
   "execution_count": null,
   "metadata": {},
   "outputs": [],
   "source": [
    "!cat temp.txt"
   ]
  },
  {
   "cell_type": "code",
   "execution_count": null,
   "metadata": {},
   "outputs": [],
   "source": [
    "# filter columns\n",
    "\n",
    "\n",
    "file_5 = open(\"temp.txt\", \"r\")\n",
    "for line in file_5:\n",
    "    columns = line.strip().split(\": \") # create a list by splitting the line on the \" \" and \":\" characters\n",
    "    print(\"_\".join(columns)) # prints the columns as a string, using the \"_\" char as a separator\n",
    "    if columns[1] != \"b\": # if the second element of the list is NOT b, \n",
    "        print(columns) # then print the list\n",
    "    \n",
    "file_5.close()"
   ]
  },
  {
   "cell_type": "markdown",
   "metadata": {},
   "source": [
    "#### Exercise\n",
    "\n",
    "The command below will create a file called phonetest.txt. \n",
    "\n",
    "\n",
    "Write code that will read the file and print its contents on the output"
   ]
  },
  {
   "cell_type": "code",
   "execution_count": null,
   "metadata": {},
   "outputs": [],
   "source": [
    "%%file phonetest.txt\n",
    "679-397-5255\n",
    "2126660921\n",
    "212-998-0902\n",
    "888-888-2222\n",
    "800-555-1211\n",
    "800 555 1212\n",
    "800.555.1213\n",
    "(800) 555-1214\n",
    "1-800-555-1215\n",
    "1(800)555-1216\n",
    "800-555-1212-1234\n",
    "800-555-1212x1234\n",
    "800-555-1212 ext. 1234\n",
    "work 1-(800) 555.1212 #1234\n",
    "949 824 4896"
   ]
  },
  {
   "cell_type": "code",
   "execution_count": null,
   "metadata": {},
   "outputs": [],
   "source": [
    "!cat phonetest.txt"
   ]
  },
  {
   "cell_type": "markdown",
   "metadata": {},
   "source": [
    "Importing Libraries\n",
    "-------------------\n",
    "\n",
    "One of the greatest strengths of the python programming language is its rich set of libraries- pre-written code that implements a variety of functionality. For the data scientist, python's libraries (also called \"modules\") are particularly valuable. With a little bit of research into the details of python's libraries, a lot of common data  tasks are little more than a function call away. Libraries exist for doing data cleaning, analysis, visualization, machine learning and statistics. \n",
    "\n",
    "[This XKCD cartoon](http://xkcd.com/353/) pretty much summarizes what Python libraries can do...\n",
    "\n",
    "In order to have access to a libraries functionality in a block of code, you must first import it. Importing a library tells python that while executing your code, it should not only consider the code and functions that you have written, but code and functions in the libraries that you have imported.\n",
    "\n",
    "There are several ways to import modules in python, some have better properties than others. Below we see the preferred general way to import modules. In documentation, you may see other ways to import libraries (`from a_library import foo`). There is no risk to just copying this pattern if it is known to work. \n",
    "\n",
    "Imagine I want to import a library called `some_python_library`. This can be done using the import commands. All code below that import statement has access to the library contents.\n",
    "\n",
    "+ `import some_python_library`: imports the module `some_python_library`, and creates a reference to that module in the current namespace. Or in other words, after you’ve run this statement, you can use `some_python_library.name` to refer to things defined in module `some_python_library`.\n",
    "\n",
    "+ `import some_python_library as plib`: imports the module `some_python_library` and sets an alias for that library that may be easier to refer to. To refer to a thing defined in the library `some_python_library`, use `plib.name`. \n",
    "\n",
    "In practice you'll see the second pattern used very frequently; `pandas` referred to as `pd`, `numpy` referred to as `np`, etc. "
   ]
  },
  {
   "cell_type": "code",
   "execution_count": null,
   "metadata": {},
   "outputs": [],
   "source": [
    "import math \n",
    "number = 2\n",
    "print(math.sqrt(number))\n"
   ]
  },
  {
   "cell_type": "code",
   "execution_count": null,
   "metadata": {},
   "outputs": [],
   "source": [
    "import math as m\n",
    "print(m.log(8))"
   ]
  },
  {
   "cell_type": "markdown",
   "metadata": {},
   "source": [
    "Example: Matplotlib\n",
    "-------------------\n",
    "\n",
    "Matplotlib is one of the first python libraries a budding data scientist is likely to encounter. Matplotlib is a feature-rich plotting framework, capable of most plots you'll likely need. The interface to the matplotlib module mimics the plotting functionality in Matlab, another language and environment for scientific computing. If you're familiar with Matlab plots, matplotlib will seem very familiar. Even the plots look almost identical. \n",
    "\n",
    "Here, we'll cover some basic functionality of matplotlib, line and bar plots and histograms. As with most content convered in this course, this is just scratching the surface. For more info, including many great examples, please consult the [official matplotlib documentation](http://matplotlib.org/). A typical pattern for me when plotting things in python is to find an example that closely mirrors what I'm trying to do, copy this, and tweak until i get things right.\n",
    "\n",
    "Note: to get plots to appear inline in ipython notebooks, you must invoke the \"magic function\" `%matplotlib inline`. To have a stand-alone python app plot in a new window, use `plt.show()`.\n",
    "\n",
    "In most cases, the input to matplotlib plotting functions is arrays of numerical types,  floats or integers. "
   ]
  },
  {
   "cell_type": "code",
   "execution_count": null,
   "metadata": {},
   "outputs": [],
   "source": [
    "# used to embed plots inside an ipython notebook\n",
    "%matplotlib inline \n",
    "import matplotlib.pyplot as plt\n",
    "\n",
    "# really simple example:\n",
    "y = [1,2,3,4,5,4,3,2,1]\n",
    "x = [1,2,3,4,5,6,7,8,9]\n",
    "plt.plot(x, y)"
   ]
  },
  {
   "cell_type": "code",
   "execution_count": null,
   "metadata": {},
   "outputs": [],
   "source": [
    "import numpy as np\n",
    "\n",
    "X = np.linspace(0, 10, 101) #create values from 0 to 10, and use 101 values\n",
    "print(X)"
   ]
  },
  {
   "cell_type": "code",
   "execution_count": null,
   "metadata": {},
   "outputs": [],
   "source": [
    "import numpy as np\n",
    "\n",
    "X = np.linspace(0, 10, 101) #create values from 0 to 10, and use 101 values\n",
    "Y = []\n",
    "\n",
    "for x in X:\n",
    "    y = m.sin(x)\n",
    "    Y.append(y)\n",
    "    \n",
    "plt.plot(X, Y, 'mx')\n",
    "plt.title('The Sine Wave')\n",
    "plt.xlabel('X')\n",
    "plt.ylabel('sin(X)')"
   ]
  },
  {
   "cell_type": "markdown",
   "metadata": {},
   "source": [
    "Notice that most of the functionality in matplotlib that we're using is in the sub-module `matplotlib.pyplot`. \n",
    "\n",
    "The third argument (i.e., the `'r-.'`) in the plot function `plt.plot(X, Y, 'r-.')` is a formatting specifier. This defines some properties for a line to be displayed. Some details:\n",
    "Color characters:\n",
    "\n",
    "+ `b`: blue\n",
    "\n",
    "+ `k`: black\n",
    "\n",
    "+ `r`: red\n",
    "\n",
    "+ `c`: cyan\n",
    "\n",
    "+ `m`: magenta\n",
    "\n",
    "+ `y`: yellow\n",
    "\n",
    "+ `g`: green\n",
    "\n",
    "+ `w`: white\n",
    "\n",
    "Some line/marker formatting specifiers:\n",
    "\n",
    "+ `-`: solid line style\n",
    "\n",
    "+ `--`: dashed line style\n",
    "\n",
    "+ `-.`: dash-dot line style\n",
    "\n",
    "+ `:`:  dotted line style\n",
    "\n",
    "+ `.`: point marker\n",
    "\n",
    "+ `,`: pixel marker\n",
    "\n",
    "+ `o`: circle marker\n",
    "\n",
    "+ `+`: plus marker\n",
    "\n",
    "+ `x`: x marker\n",
    "\n",
    "There are many other options for plots that can be specified. See [documentation](http://matplotlib.org/api/pyplot_api.html#matplotlib.pyplot.plot) for more info. We will also revisit this topic in the Visualization lectures.\n",
    "\n",
    "It is possible to plot multiple plots on the same y-axis. In order to do this, the Y data passed into the plot function must be a **list of lists**, each with the same length as the X data that is input:"
   ]
  },
  {
   "cell_type": "code",
   "execution_count": null,
   "metadata": {},
   "outputs": [],
   "source": [
    "Y = []\n",
    "for x in X:\n",
    "    y = [m.sin(x), m.cos(x), 0.1*x]\n",
    "    Y.append(y)\n",
    "\n",
    "plt.plot(X, Y)\n",
    "plt.legend(['sin(x)', 'cos(x)', 'x/10'])"
   ]
  },
  {
   "cell_type": "markdown",
   "metadata": {},
   "source": [
    "It is also possible to just plot Y data without corresponding X values. In this case, the index in the array is assumed to be X."
   ]
  },
  {
   "cell_type": "code",
   "execution_count": null,
   "metadata": {},
   "outputs": [],
   "source": [
    "plt.plot(Y)\n",
    "plt.xlabel('index')\n",
    "plt.ylabel('f(x)')\n",
    "plt.legend(['sin(x)', 'cos(x)'])\n"
   ]
  },
  {
   "cell_type": "markdown",
   "metadata": {},
   "source": [
    "Alternately, multiple calls to plot can be made with differing data. Doing so overlays the subsequent plots, creating the same effect."
   ]
  },
  {
   "cell_type": "code",
   "execution_count": null,
   "metadata": {},
   "outputs": [],
   "source": [
    "Y = []\n",
    "Z = []\n",
    "for x in X:\n",
    "    Y.append(m.sin(x))\n",
    "    Z.append(m.cos(x))\n",
    "    \n",
    "plt.plot(X, Y, 'b-.')\n",
    "plt.plot(X, Z, 'r--')\n",
    "plt.legend(['sin(x)', 'cos(x)'])"
   ]
  },
  {
   "cell_type": "markdown",
   "metadata": {},
   "source": [
    "Bar plots are often a good way to compare data in categories. This is an easy matter with matplotlib, the interface is almost identical to the that used when making line plots. "
   ]
  },
  {
   "cell_type": "code",
   "execution_count": null,
   "metadata": {},
   "outputs": [],
   "source": [
    "vals = [7, 6.2, 3, 5, 9]\n",
    "xval = [1, 2, 3, 4, 5]\n",
    "plt.bar(xval, vals)\n"
   ]
  },
  {
   "cell_type": "markdown",
   "metadata": {},
   "source": [
    "Histograms are extremely useful for analyzing data. Histograms partition numerical data into a discrete number of buckets (called bins), and return the number of values within each bucket. Typically this is displayed as a bar plot."
   ]
  },
  {
   "cell_type": "code",
   "execution_count": null,
   "metadata": {},
   "outputs": [],
   "source": [
    "Y = []\n",
    "for x in range(0,100000):\n",
    "    Y.append(np.random.randn())\n",
    "    \n",
    "plt.hist(Y, 50)"
   ]
  },
  {
   "cell_type": "markdown",
   "metadata": {},
   "source": [
    "Class Objects\n",
    "-------------\n",
    "\n",
    "Python is what is known as an object-oriented programming language. This means python allows a programmer to define special custom data structures called classes that not only can contain their own data elements, but special functions called methods that can potentially alter a class instance's internal state. \n",
    "\n",
    "Classes are defined through the keyword `class`, followed by the name of the class, which, by convention, is capitalized. This is followed by a code block that specifies the methods that define a class. Note that classes are a rich and complex topic in python. However, much of the functionality a data scientist may wish to use, in particular, python's machine learning libraries, will be accessed through class objects. Please see the [official documentation](http://docs.python.org/2/tutorial/classes.html) for more info."
   ]
  },
  {
   "cell_type": "code",
   "execution_count": null,
   "metadata": {},
   "outputs": [],
   "source": [
    "# defining a class\n",
    "class TestClass:\n",
    "    def im_a_class(self):\n",
    "        print(\"hi! i'm a class!\")\n",
    "\n",
    "    def hello(self, name):\n",
    "        print(\"hello %s!\" % name)\n"
   ]
  },
  {
   "cell_type": "markdown",
   "metadata": {},
   "source": [
    "Note that the method functions inside the class definition take a special extra parameter, `self`. This tells the method that it is assigned to an example of a class, and when it is invoked, it potentially operates on that example, but not other examples of that class.\n",
    "\n",
    "Concrete examples of classes are called class objects. These are created using a special function called a class constructor. In python, unless the programmer specifies otherwise, all classes are assigned a class constructor that doesn't take any arguments, and doesn't do anything beyond create a new example class object. These constructor functions are invoked by calling the class name as if you were calling a function, that is, using the class name with parentheses afterwards.\n",
    "\n",
    "Methods associated with a class can be invoked by the special dot operator (`.`). Here, you take a class object, a concrete example of a class, often assigned to a variable, then use the dot character (`.`), then the method you wish to call. This method operates only on the class object to the left of the dot. The arguments passed to these methods ignore the special `self`, keyword mentioned above, you only need to pass in what is to the right of this keyword, if anything."
   ]
  },
  {
   "cell_type": "code",
   "execution_count": null,
   "metadata": {},
   "outputs": [],
   "source": [
    "a_test_class_variable = TestClass()\n",
    "a_test_class_variable.im_a_class()\n",
    "\n",
    "a_test_class_variable.hello(\"ben\")"
   ]
  },
  {
   "cell_type": "markdown",
   "metadata": {},
   "source": [
    "As mentioned above, classes always have a special function called a constructor that is used to build concrete instances of class objects. A programmer can define their own constructor function, defining any actions that are performed when building a new class object, and data that are used internally within a class object. Like all functions, constructors can take arguments that can be used during their execution. Like methods in a class, the constructor definition takes the special `self` parameter as the left most argument in it's definition. This allows you to modify the internal state of the class object being constructed. Here is an example class with a custom constructor. Note that internal variables or methods can be accessed through the dot operator on `self`."
   ]
  },
  {
   "cell_type": "code",
   "execution_count": null,
   "metadata": {},
   "outputs": [],
   "source": [
    "class Person:\n",
    "    \n",
    "    def __init__(self, first_name, last_name):\n",
    "        # this constructor sets the values of \"member variables\"\n",
    "        # in the concrete class object being constructed\n",
    "        self.first = first_name\n",
    "        self.last = last_name\n",
    "        self.screams = 0\n",
    "\n",
    "    def scream(self):\n",
    "        # modifying an internal example\n",
    "        self.screams = self.screams + 1\n",
    "        print(\"%s has screamed %d times\" % (self.first, self.screams))\n",
    "        \n",
    "ben = Person(\"Ben\", \"Chan\")\n",
    "ben.scream()\n",
    "ben.scream()\n",
    "# accessing the value of a member variable\n",
    "print(\"First Name:\", ben.first)\n",
    "print(\"Last Name:\", ben.last)\n",
    "print(\"Num of Screams:\", ben.screams)\n"
   ]
  },
  {
   "cell_type": "markdown",
   "metadata": {},
   "source": [
    "List Comprehensions\n",
    "-------------------\n",
    "\n",
    "The practical data scientist often faces situations where one list is to be transformed into another list, transforming the values in the input array, filtering out certain undesired values, etc. List comprehensions are a natural, flexible way to perform these transformations on the elements in a list. \n",
    "\n",
    "The syntax of list comprehensions is based on the way mathematicians define sets and lists, a syntax that leaves it clear what the contents should be:\n",
    "\n",
    "+ `S = {x² : x in {0 ... 9}}`\n",
    "\n",
    "+ `V = (1, 2, 4, 8, ..., 2¹²)`\n",
    "\n",
    "+ `M = {x | x in S and x even}`\n",
    "\n",
    "\n",
    "Python's list comprehensions give a very natural way to write statements just like these. You can write math-like expressions without having too much special syntax."
   ]
  },
  {
   "cell_type": "code",
   "execution_count": null,
   "metadata": {},
   "outputs": [],
   "source": [
    "import math\n",
    "S = [math.pow(x, 2) for x in range(0,10)]\n",
    "print(S)\n"
   ]
  },
  {
   "cell_type": "code",
   "execution_count": null,
   "metadata": {},
   "outputs": [],
   "source": [
    "S = []\n",
    "for x in range(0,10):\n",
    "     S.append(math.pow(x,2))\n",
    "print(S)"
   ]
  },
  {
   "cell_type": "code",
   "execution_count": null,
   "metadata": {},
   "outputs": [],
   "source": [
    "import math\n",
    "S = [math.pow(x, 2) for x in range(0,10)]\n",
    "V = [math.pow(2, x) for x in range(0, 13)]\n",
    "M = [x for x in S if x%2 == 0]\n",
    "\n",
    "M=[]\n",
    "for x in S:\n",
    "    if x%2 ==0:\n",
    "        M.append(x)\n",
    "        \n",
    "print(M)\n",
    "# print(S)\n",
    "# print(V)\n",
    "# print(M)"
   ]
  },
  {
   "cell_type": "markdown",
   "metadata": {},
   "source": [
    "Note the list comprehension for deriving M uses a \"if statement\" to filter out those values that aren't of interest, restricting to only the even perfect squares.\n",
    "\n",
    "These are simple examples, using numerical compuation. In the following operation we transform a string into an list of values, a more complex operation: "
   ]
  },
  {
   "cell_type": "code",
   "execution_count": null,
   "metadata": {},
   "outputs": [],
   "source": [
    "words = 'The quick brown fox jumps over the lazy dog'\n",
    "[[w.upper(), w.lower(), len(w)] for w in words.split()]\n",
    "\n"
   ]
  },
  {
   "cell_type": "code",
   "execution_count": null,
   "metadata": {},
   "outputs": [],
   "source": []
  },
  {
   "cell_type": "code",
   "execution_count": null,
   "metadata": {},
   "outputs": [],
   "source": [
    "l1= [1,3,2,1]\n",
    "[value*index for value, index in enumerate(l1)]"
   ]
  },
  {
   "cell_type": "code",
   "execution_count": null,
   "metadata": {},
   "outputs": [],
   "source": []
  }
 ],
 "metadata": {
  "celltoolbar": "Slideshow",
  "kernelspec": {
   "display_name": "Python 3",
   "language": "python",
   "name": "python3"
  },
  "language_info": {
   "codemirror_mode": {
    "name": "ipython",
    "version": 3
   },
   "file_extension": ".py",
   "mimetype": "text/x-python",
   "name": "python",
   "nbconvert_exporter": "python",
   "pygments_lexer": "ipython3",
   "version": "3.8.3"
  }
 },
 "nbformat": 4,
 "nbformat_minor": 1
}
